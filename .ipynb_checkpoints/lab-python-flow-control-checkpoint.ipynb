{
 "cells": [
  {
   "cell_type": "markdown",
   "id": "d3bfc191-8885-42ee-b0a0-bbab867c6f9f",
   "metadata": {
    "tags": []
   },
   "source": [
    "# Lab | Flow Control"
   ]
  },
  {
   "cell_type": "markdown",
   "id": "3851fcd1-cf98-4653-9c89-e003b7ec9400",
   "metadata": {},
   "source": [
    "## Exercise: Managing Customer Orders Optimized\n",
    "\n",
    "In the last lab, you were starting an online store that sells various products. To ensure smooth operations, you developed a program that manages customer orders and inventory.\n",
    "\n",
    "You did so without using flow control. Let's go a step further and improve this code.\n",
    "\n",
    "Follow the steps below to complete the exercise:\n",
    "\n",
    "1. Look at your code from the lab data structures, and improve repeated code with loops.\n",
    "\n",
    "2. Instead of asking the user to input the name of three products that a customer wants to order, do the following:\n",
    "    \n",
    "    a. Prompt the user to enter the name of a product that a customer wants to order.\n",
    "    \n",
    "    b. Add the product name to the \"customer_orders\" set.\n",
    "    \n",
    "    c. Ask the user if they want to add another product (yes/no).\n",
    "    \n",
    "    d. Continue the loop until the user does not want to add another product.\n",
    "\n",
    "3. Instead of updating the inventory by subtracting 1 from the quantity of each product, only do it for  the products that were ordered (those in \"customer_orders\")."
   ]
  },
  {
   "cell_type": "code",
   "execution_count": 65,
   "id": "e90284a8-9861-485b-a830-451a761ce6c9",
   "metadata": {},
   "outputs": [
    {
     "name": "stdin",
     "output_type": "stream",
     "text": [
      "please digit the number of t-shirt in the inventory: 7\n",
      "please digit the number of mug in the inventory: 8\n",
      "please digit the number of hat in the inventory: 5\n",
      "please digit the number of book in the inventory: 7\n",
      "please digit the number of keychain in the inventory: 6\n"
     ]
    },
    {
     "name": "stdout",
     "output_type": "stream",
     "text": [
      "{'t-shirt': 7, 'mug': 8, 'hat': 5, 'book': 7, 'keychain': 6}\n"
     ]
    },
    {
     "name": "stdin",
     "output_type": "stream",
     "text": [
      "please, select an item to order: mug\n",
      "do you want to continue your order? yes\n",
      "please, select an item to order: book\n",
      "do you want to continue your order? yes\n",
      "please, select an item to order: bull\n",
      "item unavailable. Please, select an item to order: keychain\n",
      "do you want to continue your order? no\n"
     ]
    },
    {
     "name": "stdout",
     "output_type": "stream",
     "text": [
      "thank you\n",
      "{'book', 'keychain', 'mug'}\n"
     ]
    }
   ],
   "source": [
    "# did not get n.1 = what part should we improve?\n",
    "#2\n",
    "products=[\"t-shirt\",\"mug\",\"hat\",\"book\",\"keychain\"]\n",
    "inventory={}\n",
    "for item in products:\n",
    "    quantity=int((input(f\"please digit the number of {item} in the inventory:\")))\n",
    "    inventory[item]=quantity\n",
    "print(inventory)\n",
    "\n",
    "customer_orders=set()\n",
    "user_order=input(\"please, select an item to order:\")\n",
    "user_answer=\"yes\"\n",
    "while user_answer==\"yes\":\n",
    "    if user_order in products:\n",
    "        customer_orders.add(user_order)\n",
    "        user_answer=input(\"do you want to continue your order?\")\n",
    "        if user_answer==\"yes\":\n",
    "            user_order=input(\"please, select an item to order:\")\n",
    "        elif user_answer==\"no\":\n",
    "            print(\"thank you\")\n",
    "        else: print(input(\"please, answer either 'yes' or 'no'\"))\n",
    "    else: user_order=input(\"item unavailable. Please, select an item to order:\")\n",
    "    \n",
    "print(customer_orders)\n",
    "        \n",
    "    "
   ]
  },
  {
   "cell_type": "code",
   "execution_count": 66,
   "id": "44ffdc1a-3be7-4935-9fc5-c0b5c7918622",
   "metadata": {},
   "outputs": [
    {
     "name": "stdout",
     "output_type": "stream",
     "text": [
      "{'t-shirt': 7, 'mug': 7, 'hat': 5, 'book': 6, 'keychain': 5}\n"
     ]
    }
   ],
   "source": [
    "#3\n",
    "for item in inventory:\n",
    "    if item in customer_orders:\n",
    "        inventory[item] -=1\n",
    "\n",
    "print(inventory)"
   ]
  },
  {
   "cell_type": "code",
   "execution_count": null,
   "id": "9b2194ce-bce0-4273-af34-241d33117d23",
   "metadata": {},
   "outputs": [],
   "source": []
  }
 ],
 "metadata": {
  "kernelspec": {
   "display_name": "Python 3 (ipykernel)",
   "language": "python",
   "name": "python3"
  },
  "language_info": {
   "codemirror_mode": {
    "name": "ipython",
    "version": 3
   },
   "file_extension": ".py",
   "mimetype": "text/x-python",
   "name": "python",
   "nbconvert_exporter": "python",
   "pygments_lexer": "ipython3",
   "version": "3.11.7"
  }
 },
 "nbformat": 4,
 "nbformat_minor": 5
}
